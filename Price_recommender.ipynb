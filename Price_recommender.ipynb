{
 "cells": [
  {
   "cell_type": "code",
   "execution_count": 1,
   "metadata": {},
   "outputs": [
    {
     "name": "stderr",
     "output_type": "stream",
     "text": [
      "[nltk_data] Downloading package vader_lexicon to\n",
      "[nltk_data]     /Users/dariasatco/nltk_data...\n",
      "[nltk_data]   Package vader_lexicon is already up-to-date!\n"
     ]
    }
   ],
   "source": [
    "import pandas as pd\n",
    "import numpy as np\n",
    "import utils.preprocess_funcs as pf"
   ]
  },
  {
   "cell_type": "code",
   "execution_count": 2,
   "metadata": {},
   "outputs": [],
   "source": [
    "%load_ext autoreload\n",
    "%autoreload 2"
   ]
  },
  {
   "cell_type": "markdown",
   "metadata": {},
   "source": [
    "### What is the right price to set up for your listing?"
   ]
  },
  {
   "cell_type": "markdown",
   "metadata": {},
   "source": [
    "Here we consider the following case: you decided to add an object (room/appartment) to airbnb. You are new on this platform and in this business, so you are not sure what is the right price to set up. You fill all the information about the place and on the stage of putting the price you can get an advice from the system, which is based on the current proposition in your city/neighbourhood. \n",
    "\n",
    "Let us build a model, which will be recommend a suitable price based on your listing characteristics."
   ]
  },
  {
   "cell_type": "code",
   "execution_count": 3,
   "metadata": {},
   "outputs": [],
   "source": [
    "# select columns for modelling\n",
    "numerical_columns = ['host_listings_count', 'accommodates', 'bathrooms',\n",
    "                     'bedrooms', 'beds', 'square_feet', 'guests_included',\n",
    "                     'minimum_nights', 'maximum_nights', 'density', \n",
    "                     'district_sentiment', 'district_rev_score']\n",
    "\n",
    "object_columns = ['room_type', 'property_type', 'bed_type', 'instant_bookable']\n",
    "inc_list_col = ['amenities']\n",
    "target = ['price']\n",
    "\n",
    "cols_to_take = numerical_columns + object_columns + inc_list_col + target\n",
    "\n",
    "# filters on listing activity \n",
    "LAST_REVIEW_DAYS = 180\n",
    "LAST_CALENDAR_UPD = 60"
   ]
  },
  {
   "cell_type": "markdown",
   "metadata": {},
   "source": [
    "Read data and preprocess categorical columns"
   ]
  },
  {
   "cell_type": "code",
   "execution_count": 8,
   "metadata": {},
   "outputs": [],
   "source": [
    "dataset = pd.read_pickle('Boston_Airbnb_data/preprocessed_listings.pickle')\n",
    "dataset = dataset[ (dataset['recently_booked']==1) \n",
    "                & (dataset['recently_calendar_upd']==1) ]\n",
    "dataset = dataset[cols_to_take]"
   ]
  },
  {
   "cell_type": "code",
   "execution_count": 9,
   "metadata": {
    "scrolled": true
   },
   "outputs": [],
   "source": [
    "# preprocess categorical columns\n",
    "preprocessed = pf.add_dummy_cols(dataset, cat_cols=object_columns, dummy_na=True)\n",
    "preprocessed = pf.one_hot_enc_for_amenities(preprocessed)\n",
    "# fill all NaN values with -1\n",
    "preprocessed = preprocessed.fillna(-1)"
   ]
  },
  {
   "cell_type": "markdown",
   "metadata": {},
   "source": [
    "Build model"
   ]
  },
  {
   "cell_type": "code",
   "execution_count": null,
   "metadata": {},
   "outputs": [],
   "source": []
  },
  {
   "cell_type": "code",
   "execution_count": null,
   "metadata": {},
   "outputs": [],
   "source": []
  }
 ],
 "metadata": {
  "kernelspec": {
   "display_name": "Python 3",
   "language": "python",
   "name": "python3"
  },
  "language_info": {
   "codemirror_mode": {
    "name": "ipython",
    "version": 3
   },
   "file_extension": ".py",
   "mimetype": "text/x-python",
   "name": "python",
   "nbconvert_exporter": "python",
   "pygments_lexer": "ipython3",
   "version": "3.8.3"
  }
 },
 "nbformat": 4,
 "nbformat_minor": 4
}
